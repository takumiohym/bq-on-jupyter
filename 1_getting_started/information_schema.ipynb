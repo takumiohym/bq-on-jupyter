{
 "cells": [
  {
   "cell_type": "markdown",
   "metadata": {},
   "source": [
    "# BigQuery INFORMATION_SCHEMA の概要\n",
    "\n",
    "`INFORMATION_SCHEMA` は、次に挙げるデータへのアクセスを提供する一連のビューです。<br>\n",
    "このノートブックでは以下のメタデータの使い方を確認します\n",
    "\n",
    "\n",
    "- [データセットのメタデータ](#データセットのメタデータ)\n",
    "- [ジョブのメタデータ](#ジョブのメタデータ)\n",
    "- [テーブルのメタデータ](#テーブルのメタデータ)\n"
   ]
  },
  {
   "cell_type": "markdown",
   "metadata": {},
   "source": [
    "---\n",
    "## データセットのメタデータ\n",
    "\n",
    "データセットに関するメタデータには以下の二種類のものが存在します。\n",
    "- SCHEMATA\n",
    "- SCHEMATA_OPTIONS（ここでは割愛）\n",
    "\n",
    "### SCHEMATA\n",
    "\n",
    "`INFORMATION_SCHEMA.SCHEMATA` ビューにクエリを実行すると、現在のユーザーがアクセスできるプロジェクトの各データセットが 1 行で返されます。\n",
    "\n",
    "`INFORMATION_SCHEMA.SCHEMATA` ビューのスキーマは次のとおりです。\n",
    "\n",
    "\n",
    "|列名|データ型|値|\n",
    "|---|---|---|\n",
    "|CATALOG_NAME|STRING|データセットを含むプロジェクトの名前|\n",
    "|SCHEMA_NAME|STRING\tデータセットの名前（datasetId ともいいます）|\n",
    "|SCHEMA_OWNER|STRING|値は常に NULL|\n",
    "|CREATION_TIME|TIMESTAMP|データセットの作成日時|\n",
    "|LAST_MODIFIED_TIME|TIMESTAMP|データセットの最終更新日時|\n",
    "|LOCATION|STRING|データセットの地理的なロケーション|"
   ]
  },
  {
   "cell_type": "markdown",
   "metadata": {},
   "source": [
    "#### 構文\n",
    "\n",
    "```sql\n",
    "SELECT * FROM INFORMATION_SCHEMA.SCHEMATA\n",
    "```"
   ]
  },
  {
   "cell_type": "code",
   "execution_count": null,
   "metadata": {},
   "outputs": [],
   "source": [
    "%%bigquery ds\n",
    "SELECT\n",
    " * EXCEPT(schema_owner)\n",
    "FROM\n",
    " INFORMATION_SCHEMA.SCHEMATA"
   ]
  },
  {
   "cell_type": "code",
   "execution_count": null,
   "metadata": {},
   "outputs": [],
   "source": [
    "ds.head()"
   ]
  },
  {
   "cell_type": "markdown",
   "metadata": {},
   "source": [
    "---"
   ]
  },
  {
   "cell_type": "markdown",
   "metadata": {},
   "source": [
    "## テーブルのメタデータ\n",
    "\n",
    "`INFORMATION_SCHEMA` には、テーブル メタデータ用の以下のビューが含まれています。\n",
    "\n",
    "- テーブルに関するメタデータ用の `TABLES` および `TABLE_OPTIONS`\n",
    "- 列とフィールドに関するメタデータ用の `COLUMNS` および `COLUMN_FIELD_PATHS`"
   ]
  },
  {
   "cell_type": "markdown",
   "metadata": {},
   "source": [
    "### TABLES ビュー\n",
    "\n",
    "`INFORMATION_SCHEMA.TABLES` ビューにクエリを実行すると、クエリの結果として、データセット内の各テーブルまたはビューが 1 行で返されます。\n",
    "\n",
    "`INFORMATION_SCHEMA.TABLES` ビューのスキーマは次のとおりです。\n",
    "\n",
    "|列名|データ型|値|\n",
    "|---|---|---|\n",
    "|列名|データ型|値|\n",
    "|TABLE_CATALOG|STRING|データセットを含むプロジェクトの名前|\n",
    "|TABLE_SCHEMA|STRING|テーブルまたはビューを含むデータセットの名前（datasetId とも呼ばれる）|\n",
    "|TABLE_NAME|STRING|テーブルまたはビューの名前（tableId とも呼ばれる）|\n",
    "|TABLE_TYPE|STRING|テーブルタイプ:<br>BASE TABLE: BigQuery のテーブル<br>VIEW: BigQuery のビュー<br>EXTERNAL: 外部データソースを参照するテーブル|\n",
    "|IS_INSERTABLE_INTO|STRING|YES または NO（テーブルが DML INSERT ステートメントに対応しているかどうかによる）|\n",
    "|IS_TYPED|STRING|値は常に NO|\n",
    "|CREATION_TIME|TIMESTAMP|テーブルの作成時間|"
   ]
  },
  {
   "cell_type": "markdown",
   "metadata": {},
   "source": [
    "#### 構文\n",
    "\n",
    "```sql\n",
    "SELECT * FROM <Project-name>.<Dataset-name>.INFORMATION_SCHEMA.TABLES;\n",
    "```"
   ]
  },
  {
   "cell_type": "code",
   "execution_count": null,
   "metadata": {},
   "outputs": [],
   "source": [
    "%%bigquery\n",
    "SELECT\n",
    " * EXCEPT(is_typed)\n",
    "FROM\n",
    " `bigquery-public-data`.census_bureau_usa.INFORMATION_SCHEMA.TABLES"
   ]
  },
  {
   "cell_type": "markdown",
   "metadata": {},
   "source": [
    "### COLUMNS ビュー\n",
    "\n",
    "`INFORMATION_SCHEMA.COLUMNS` ビューにクエリを実行すると、クエリ結果として、テーブル内の列（フィールド）ごとに 1 行が表示されます。\n",
    "\n",
    "`INFORMATION_SCHEMA.COLUMNS` ビューのスキーマは次のとおりです。\n",
    "\n",
    "|列名|データ型|値|\n",
    "|---|---|---|\n",
    "|TABLE_CATALOG|STRING|データセットを含むプロジェクトの名前|\n",
    "|TABLE_SCHEMA|STRING|テーブルを含むデータセットの名前（datasetId とも呼ばれる）|\n",
    "|TABLE_NAME|STRING|テーブルまたはビューの名前（tableId とも呼ばれる）|\n",
    "|COLUMN_NAME|STRING|列の名前|\n",
    "|ORDINAL_POSITION|INT64|テーブル内の列の 1 から始まるオフセット。_PARTITIONTIME や _PARTITIONDATE などの疑似列の場合、値は NULL|\n",
    "|IS_NULLABLE|STRING|YES または NO（列のモードが NULL 値を許可するかどうかによる）|\n",
    "|DATA_TYPE|STRING|列の標準 SQL データ型|\n",
    "|IS_GENERATED|STRING|値は常に NEVER|\n",
    "|GENERATION_EXPRESSION|STRING|値は常に NULL|\n",
    "|IS_STORED|STRING|値は常に NULL|\n",
    "|IS_HIDDEN|STRING|YES または NO（列が _PARTITIONTIME や _PARTITIONDATE などの疑似列であるかどうかによる）|\n",
    "|IS_UPDATABLE|STRING|値は常に NULL|\n",
    "|IS_SYSTEM_DEFINED|STRING|YES または NO（列が _PARTITIONTIME や _PARTITIONDATE などの疑似列であるかどうかによる）|\n",
    "|IS_PARTITIONING_COLUMN|STRING|YES または NO（列がパーティショニング列かどうかによる）|\n",
    "|CLUSTERING_ORDINAL_POSITION|INT64|テーブルのクラスタリング列内の列の 1 から始まるオフセット。テーブルがクラスタ化テーブルでない場合、値は NULL|"
   ]
  },
  {
   "cell_type": "markdown",
   "metadata": {},
   "source": [
    "#### 構文\n",
    "\n",
    "```sql\n",
    "SELECT\n",
    "  * \n",
    "FROM <Project-name>.<Dataset-name>.INFORMATION_SCHEMA.COLUMNS;\n",
    "WHERE table_name=\"<table_name>\"\n",
    "```\n",
    "\n"
   ]
  },
  {
   "cell_type": "code",
   "execution_count": null,
   "metadata": {},
   "outputs": [],
   "source": [
    "%%bigquery\n",
    "SELECT\n",
    " * EXCEPT(is_generated, generation_expression, is_stored, is_updatable)\n",
    "FROM\n",
    " `bigquery-public-data`.wikipedia.INFORMATION_SCHEMA.COLUMNS\n",
    "WHERE\n",
    " table_name=\"pageviews_2020\""
   ]
  },
  {
   "cell_type": "markdown",
   "metadata": {},
   "source": [
    "---\n",
    "## ジョブのメタデータ\n",
    "\n",
    "`INFORMATION_SCHEMA.JOBS_BY_*` ビューに対してクエリを実行すると、BigQuery ジョブに関するリアルタイムのメタデータを取得できます。このビューには、現在実行中のジョブと、完了したジョブの過去 180 日間の履歴が表示されます。\n",
    "\n",
    "- `INFORMATION_SCHEMA.JOBS_BY_USER` は、現在のプロジェクトで現在のユーザーが送信したジョブのみを返します。\n",
    "- `INFORMATION_SCHEMA.JOBS_BY_PROJECT` は、現在のプロジェクトで送信されたすべてのジョブを返します。\n",
    "- `INFORMATION_SCHEMA.JOBS_BY_ORGANIZATION` は、現在のプロジェクトに関連付けられている組織で送信されたすべてのジョブを返します。\n",
    "\n"
   ]
  },
  {
   "cell_type": "markdown",
   "metadata": {},
   "source": [
    "`INFORMATION_SCHEMA.JOBS_BY_*` ビューのスキーマは次のとおりです。\n",
    "\n",
    "\n",
    "|列名|データ型|値|\n",
    "|---|---|---|\n",
    "|creation_time|TIMESTAMP|（パーティショニング列）このジョブの作成時間|\n",
    "|project_id|STRING|（クラスタリング列）プロジェクトの ID。|\n",
    "|project_number|INTEGER|プロジェクトの番号|\n",
    "|user_email|STRING||（クラスタリング列）ジョブを実行したユーザーのメールアドレスまたはサービス アカウント。|\n",
    "|job_id|STRING|ジョブの ID。たとえば、`bquxjob_1234`|\n",
    "|job_type|STRING|ジョブのタイプ。QUERY、LOAD、EXTRACT、COPY、または UNKNOWN のいずれかです。|\n",
    "|statement_type|STRING|クエリ ステートメントのタイプ（有効な場合）。例: SELECT、INSERT、UPDATE、または DELETE。|\n",
    "|start_time|TIMESTAMP|このジョブの開始時間|\n",
    "|end_time|TIMESTAMP|このジョブの終了時間|\n",
    "|query|STRING|SQL クエリテキスト。注: JOBS_BY_ORGANIZATION ビューには query 列がありません。|\n",
    "|state|STRING|ジョブの実行状態。有効な状態は PENDING、RUNNING、および DONE です。|\n",
    "|reservation_id|STRING|このジョブに割り当てられたメイン予約の名前（該当する場合）。|\n",
    "|total_bytes_processed|INTEGER|ジョブによって処理された合計バイト数|\n",
    "|total_slot_ms|INTEGER|ジョブの全期間のスロット（ミリ秒）。|\n",
    "|error_result|RECORD|エラーの詳細（ある場合）。|\n",
    "|cache_hit|BOOLEAN|クエリ結果がキャッシュされたかどうか。|\n",
    "|destination_table|RECORD|結果の宛先テーブル（ある場合）。|\n",
    "|referenced_tables|RECORD|ジョブによって参照されるテーブルの配列。|\n",
    "|labels|RECORD|ジョブに適用されるラベルの配列。|\n",
    "|timeline|RECORD|ジョブのクエリ タイムライン。クエリ実行のスナップショットが格納されます。|\n",
    "job_stages|RECORD|ジョブのクエリステージ。|"
   ]
  },
  {
   "cell_type": "markdown",
   "metadata": {},
   "source": [
    "BigQuery の INFORMATION_SCHEMA ジョブビューはリージョン化されています。これらのビューに対してクエリを実行するには、`region-<region_name>.INFORMATION_SCHEMA.JOBS_BY_*` という形式の関連するリージョン名を接頭辞として付ける必要があります。\n",
    "\n",
    "利用可能なリージョンのリストは[こちら](https://cloud.google.com/bigquery/docs/locations?hl=ja)。"
   ]
  },
  {
   "cell_type": "markdown",
   "metadata": {},
   "source": [
    "### サービスアカウントに必要な権限を付与する\n",
    "\n",
    "以下のセルを実行してサービスアカウントを取得し、サービスアカウントに必要な権限を付与してください"
   ]
  },
  {
   "cell_type": "code",
   "execution_count": null,
   "metadata": {},
   "outputs": [],
   "source": [
    "!gcloud config get-value account"
   ]
  },
  {
   "cell_type": "markdown",
   "metadata": {},
   "source": [
    "手順\n",
    "1. [IAM](https://console.cloud.google.com/iam-admin/iam?) にアクセス\n",
    "1. 当該のサービスアカウントの右側のペンのマークをクリック\n",
    "1. [Add Another Role]をクリック\n",
    "1. [Select a Role] から `BigQuery Admin` を選択\n",
    "1. [Save] をクリック"
   ]
  },
  {
   "cell_type": "markdown",
   "metadata": {},
   "source": [
    "### 例 1: 平均スロット使用率"
   ]
  },
  {
   "cell_type": "code",
   "execution_count": null,
   "metadata": {},
   "outputs": [],
   "source": [
    "%%bigquery\n",
    "SELECT\n",
    " SUM(total_slot_ms) / (1000*60*60*24*7) AS avg_slots\n",
    "FROM `region-us`.INFORMATION_SCHEMA.JOBS_BY_PROJECT\n",
    "WHERE\n",
    " job_type = \"QUERY\"\n",
    " AND end_time BETWEEN TIMESTAMP_SUB(CURRENT_TIMESTAMP(), INTERVAL 7 DAY) AND CURRENT_TIMESTAMP()"
   ]
  },
  {
   "cell_type": "markdown",
   "metadata": {},
   "source": [
    "### 例 2: ジョブ履歴を読み込む"
   ]
  },
  {
   "cell_type": "code",
   "execution_count": null,
   "metadata": {},
   "outputs": [],
   "source": [
    "%%bigquery\n",
    "SELECT\n",
    " job_id, user_email\n",
    "FROM\n",
    " `region-us`.INFORMATION_SCHEMA.JOBS_BY_PROJECT\n",
    "WHERE\n",
    " job_type = \"LOAD\""
   ]
  },
  {
   "cell_type": "markdown",
   "metadata": {},
   "source": [
    "### 例 3: 最も高額なジョブを取得"
   ]
  },
  {
   "cell_type": "code",
   "execution_count": null,
   "metadata": {},
   "outputs": [],
   "source": [
    "%%bigquery jobs\n",
    "SELECT\n",
    " job_id,\n",
    " query,\n",
    " total_bytes_processed\n",
    "FROM `region-us`.INFORMATION_SCHEMA.JOBS_BY_PROJECT\n",
    "ORDER BY total_bytes_processed DESC\n",
    "LIMIT 5"
   ]
  },
  {
   "cell_type": "code",
   "execution_count": null,
   "metadata": {},
   "outputs": [],
   "source": [
    "jobs"
   ]
  },
  {
   "cell_type": "code",
   "execution_count": null,
   "metadata": {},
   "outputs": [],
   "source": [
    "def print_job_processed(job):\n",
    "    dollar_per_TB = 5\n",
    "    print('the query below processed {} bytes and costs {} dollar\\n'.format(job['total_bytes_processed'], \n",
    "                                                                     dollar_per_TB / 10**12 * job['total_bytes_processed']))\n",
    "    print(job['query'])\n",
    "\n",
    "print_job_processed(jobs.iloc[0])"
   ]
  },
  {
   "cell_type": "markdown",
   "metadata": {},
   "source": [
    "---\n",
    "Except as otherwise noted, the content of this page is licensed under the Creative Commons Attribution 4.0 License, and code samples are licensed under the Apache 2.0 License. For details, see the Google Developers Site Policies. Java is a registered trademark of Oracle and/or its affiliates.\n",
    "\n"
   ]
  },
  {
   "cell_type": "code",
   "execution_count": null,
   "metadata": {},
   "outputs": [],
   "source": []
  }
 ],
 "metadata": {
  "kernelspec": {
   "display_name": "Python 3",
   "language": "python",
   "name": "python3"
  },
  "language_info": {
   "codemirror_mode": {
    "name": "ipython",
    "version": 3
   },
   "file_extension": ".py",
   "mimetype": "text/x-python",
   "name": "python",
   "nbconvert_exporter": "python",
   "pygments_lexer": "ipython3",
   "version": "3.7.6"
  }
 },
 "nbformat": 4,
 "nbformat_minor": 4
}
